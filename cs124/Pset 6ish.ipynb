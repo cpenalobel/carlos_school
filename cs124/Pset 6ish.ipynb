{
 "cells": [
  {
   "cell_type": "code",
   "execution_count": 5,
   "metadata": {
    "collapsed": true
   },
   "outputs": [],
   "source": [
    "from itertools import chain, combinations"
   ]
  },
  {
   "cell_type": "code",
   "execution_count": 84,
   "metadata": {
    "collapsed": false
   },
   "outputs": [],
   "source": [
    "def problem_One(n, cycle=False):\n",
    "    thing = range(n)\n",
    "    res = list(chain(*map(lambda x: combinations(thing, x), range(0, len(thing)+1))))\n",
    "    count = 0\n",
    "    for t in res:\n",
    "        d = {}\n",
    "        suc = False\n",
    "        for t_ in list(t):\n",
    "            try:\n",
    "                if cycle:\n",
    "                    d[(t_+1)%n]\n",
    "                else:\n",
    "                    d[t_+1]\n",
    "            except KeyError:\n",
    "                try:\n",
    "                    d[t_-1]\n",
    "                except KeyError:\n",
    "                    d[t_] = 1\n",
    "                else:\n",
    "                    suc= True\n",
    "            else:\n",
    "                suc = True\n",
    "        if not suc:\n",
    "            count += 1 \n",
    "    return count"
   ]
  },
  {
   "cell_type": "code",
   "execution_count": 64,
   "metadata": {
    "collapsed": true
   },
   "outputs": [],
   "source": [
    "def fib_minus_1(n):\n",
    "    lst = [0,1]\n",
    "    for elem in range(n+1):\n",
    "        lst.append(lst[-2]+lst[-1])\n",
    "    return lst[-1]-1\n",
    "        "
   ]
  },
  {
   "cell_type": "code",
   "execution_count": 71,
   "metadata": {
    "collapsed": false
   },
   "outputs": [
    {
     "data": {
      "text/plain": [
       "[0, 1, 2, 4, 7, 12, 20, 33, 54, 88, 143, 232, 376, 609, 986, 1596, 2583, 4180]"
      ]
     },
     "execution_count": 71,
     "metadata": {},
     "output_type": "execute_result"
    }
   ],
   "source": [
    "[fib_minus_1(n) for n in range(18)]"
   ]
  },
  {
   "cell_type": "code",
   "execution_count": 85,
   "metadata": {
    "collapsed": false
   },
   "outputs": [
    {
     "name": "stdout",
     "output_type": "stream",
     "text": [
      "[1, 2, 3, 5, 8, 13, 21, 34, 55, 89, 144, 233]\n",
      "[1, 2, 3, 4, 7, 11, 18, 29, 47, 76, 123, 199]\n"
     ]
    }
   ],
   "source": [
    "print [problem_One(n) for n in range(12)]\n",
    "print [problem_One(n, cycle=True) for n in range(12)]"
   ]
  }
 ],
 "metadata": {
  "kernelspec": {
   "display_name": "Python 2",
   "language": "python",
   "name": "python2"
  },
  "language_info": {
   "codemirror_mode": {
    "name": "ipython",
    "version": 2
   },
   "file_extension": ".py",
   "mimetype": "text/x-python",
   "name": "python",
   "nbconvert_exporter": "python",
   "pygments_lexer": "ipython2",
   "version": "2.7.11"
  }
 },
 "nbformat": 4,
 "nbformat_minor": 0
}
