{
 "cells": [
  {
   "cell_type": "markdown",
   "metadata": {},
   "source": [
    "### Question 1"
   ]
  },
  {
   "cell_type": "code",
   "execution_count": 1,
   "metadata": {
    "collapsed": true
   },
   "outputs": [],
   "source": [
    "nums = [3 ,-6, 1, 10, -9, -5, 9, -2, 4, 5, -5, 9, -4, -7, 2, 8, 3, 9,-4, 9]\n",
    "#nums = [2, -7, -10, -9, 10, -5, 10, 0, 5]"
   ]
  },
  {
   "cell_type": "code",
   "execution_count": 2,
   "metadata": {
    "collapsed": false
   },
   "outputs": [
    {
     "name": "stdout",
     "output_type": "stream",
     "text": [
      "36\n"
     ]
    }
   ],
   "source": [
    "m = 0\n",
    "run_sum = 0\n",
    "reachable = True\n",
    "for n in nums:\n",
    "    if reachable:\n",
    "        if m+run_sum+n > m:\n",
    "            m += n+run_sum\n",
    "            run_sum = 0\n",
    "        else:\n",
    "            run_sum += n\n",
    "            if -1*run_sum > m:\n",
    "                reachable = False\n",
    "                run_sum = 0\n",
    "    else:\n",
    "        run_sum += n\n",
    "        if run_sum > m:\n",
    "            m = run_sum\n",
    "            reachable=True\n",
    "            run_sum = 0\n",
    "        elif run_sum < 0:\n",
    "            run_sum = 0\n",
    "#    print n, m, run_sum\n",
    "print m"
   ]
  },
  {
   "cell_type": "markdown",
   "metadata": {},
   "source": [
    "### Question 3"
   ]
  },
  {
   "cell_type": "code",
   "execution_count": 3,
   "metadata": {
    "collapsed": true
   },
   "outputs": [],
   "source": [
    "def error(results, m_linesize):\n",
    "    counter = -1\n",
    "    error = 0\n",
    "    for r in results:\n",
    "        if r != '\\n':\n",
    "            counter += len(r)+1\n",
    "        else:\n",
    "            error += (m_linesize-counter) ** 3\n",
    "            counter = -1\n",
    "    return error, m_linesize"
   ]
  },
  {
   "cell_type": "code",
   "execution_count": 4,
   "metadata": {
    "collapsed": true
   },
   "outputs": [],
   "source": [
    "def split(text, m):\n",
    "    words = text.split()\n",
    "    results = []\n",
    "    linesize = -1\n",
    "    while True:\n",
    "        try:\n",
    "            word = words.pop(0)\n",
    "        except IndexError:\n",
    "            break\n",
    "        n = len(word)\n",
    "        if linesize+n+1 <= m:\n",
    "            linesize += n+1\n",
    "            results.append(word)\n",
    "        else:\n",
    "            linesize = n\n",
    "            results = results + ['\\n', word]\n",
    "    return results"
   ]
  },
  {
   "cell_type": "code",
   "execution_count": 5,
   "metadata": {
    "collapsed": true
   },
   "outputs": [],
   "source": [
    "def main(m_linesize):\n",
    "    text = \"Buffy the Vampire Slayer fans are sure to get their fix with the DVD release of the show’s first season. The threedisc collection includes all 12 episodes as well as many extras. There is a collection of interviews by the show’s creator Joss Whedon in which he explains his inspiration for the show as well as comments on the various cast members. Much of the same material is covered in more depth with Whedon’s commentary track for the show’s first two episodes that make up the Buffy the Vampire Slayer pilot. The most interesting points of Whedon’s commentary come from his explanation of the learning curve he encountered shifting from blockbuster films like Toy Story to a 1 much lower-budget television series. The first disc also includes a short interview with David Boreanaz who plays the role of Angel. Other features include the script for the pilot episodes, a trailer, a large photo gallery of publicity shots and in-depth biographies of Whedon and several of the show’s stars, including Sarah Michelle Gellar, Alyson Hannigan and Nicholas Brendon.\"\n",
    "    text = text.decode(\"utf-8\")\n",
    "    min_linesize = max(len(t) for t in text.split())\n",
    "    errors = []\n",
    "    for m in range(min_linesize, m_linesize+1):\n",
    "        results = split(text, m)\n",
    "        errors.append(error(results, m))\n",
    "    a,b = sorted(errors)[0]\n",
    "    print b, a\n",
    "    for r in split(text, b):\n",
    "        print r,"
   ]
  },
  {
   "cell_type": "code",
   "execution_count": 6,
   "metadata": {
    "collapsed": false
   },
   "outputs": [
    {
     "name": "stdout",
     "output_type": "stream",
     "text": [
      "37 1775\n",
      "Buffy the Vampire Slayer fans are \n",
      "sure to get their fix with the DVD \n",
      "release of the show’s first season. \n",
      "The threedisc collection includes all \n",
      "12 episodes as well as many extras. \n",
      "There is a collection of interviews \n",
      "by the show’s creator Joss Whedon in \n",
      "which he explains his inspiration for \n",
      "the show as well as comments on the \n",
      "various cast members. Much of the \n",
      "same material is covered in more \n",
      "depth with Whedon’s commentary track \n",
      "for the show’s first two episodes \n",
      "that make up the Buffy the Vampire \n",
      "Slayer pilot. The most interesting \n",
      "points of Whedon’s commentary come \n",
      "from his explanation of the learning \n",
      "curve he encountered shifting from \n",
      "blockbuster films like Toy Story to a \n",
      "1 much lower-budget television \n",
      "series. The first disc also includes \n",
      "a short interview with David Boreanaz \n",
      "who plays the role of Angel. Other \n",
      "features include the script for the \n",
      "pilot episodes, a trailer, a large \n",
      "photo gallery of publicity shots and \n",
      "in-depth biographies of Whedon and \n",
      "several of the show’s stars, \n",
      "including Sarah Michelle Gellar, \n",
      "Alyson Hannigan and Nicholas Brendon.\n"
     ]
    }
   ],
   "source": [
    "main(40)"
   ]
  },
  {
   "cell_type": "code",
   "execution_count": 7,
   "metadata": {
    "collapsed": false
   },
   "outputs": [
    {
     "name": "stdout",
     "output_type": "stream",
     "text": [
      "69 645\n",
      "Buffy the Vampire Slayer fans are sure to get their fix with the DVD \n",
      "release of the show’s first season. The threedisc collection includes \n",
      "all 12 episodes as well as many extras. There is a collection of \n",
      "interviews by the show’s creator Joss Whedon in which he explains his \n",
      "inspiration for the show as well as comments on the various cast \n",
      "members. Much of the same material is covered in more depth with \n",
      "Whedon’s commentary track for the show’s first two episodes that make \n",
      "up the Buffy the Vampire Slayer pilot. The most interesting points of \n",
      "Whedon’s commentary come from his explanation of the learning curve \n",
      "he encountered shifting from blockbuster films like Toy Story to a 1 \n",
      "much lower-budget television series. The first disc also includes a \n",
      "short interview with David Boreanaz who plays the role of Angel. \n",
      "Other features include the script for the pilot episodes, a trailer, \n",
      "a large photo gallery of publicity shots and in-depth biographies of \n",
      "Whedon and several of the show’s stars, including Sarah Michelle \n",
      "Gellar, Alyson Hannigan and Nicholas Brendon.\n"
     ]
    }
   ],
   "source": [
    "main(72)"
   ]
  }
 ],
 "metadata": {
  "kernelspec": {
   "display_name": "Python 2",
   "language": "python",
   "name": "python2"
  },
  "language_info": {
   "codemirror_mode": {
    "name": "ipython",
    "version": 2
   },
   "file_extension": ".py",
   "mimetype": "text/x-python",
   "name": "python",
   "nbconvert_exporter": "python",
   "pygments_lexer": "ipython2",
   "version": "2.7.11"
  }
 },
 "nbformat": 4,
 "nbformat_minor": 0
}
