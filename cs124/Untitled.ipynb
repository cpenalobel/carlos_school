{
 "cells": [
  {
   "cell_type": "code",
   "execution_count": 1,
   "metadata": {
    "collapsed": true
   },
   "outputs": [],
   "source": [
    "import numpy as np"
   ]
  },
  {
   "cell_type": "code",
   "execution_count": 2,
   "metadata": {
    "collapsed": false
   },
   "outputs": [],
   "source": [
    "def helper(s_ , s, edges):\n",
    "    if s_ == s:\n",
    "        return 0\n",
    "    elif s_ < s:\n",
    "        return \"Need to add\"\n",
    "    else:\n",
    "        return edges.pop()\n",
    "        \n",
    "    \n",
    "def makeGraph(size, type_ = 0):\n",
    "    edges = list(np.random.ranf((size*(size-1))/2))\n",
    "#    edges = [.1,.2,.3,.4,.5,.6]\n",
    "#    edges = [.6,.5,.4,.3,.2,.1]\n",
    "    if not type_:\n",
    "        d = {s: {s_ : helper(s_, s, edges) for s_ in range(size)} for s in range(size)}\n",
    "        for k, v in d.iteritems():\n",
    "            for k_, v_ in v.iteritems():\n",
    "                if k < k_:\n",
    "                    d[k_][k] = v_\n",
    "        return d\n",
    "    else:\n",
    "        print \"Not Implemented Yet\""
   ]
  },
  {
   "cell_type": "code",
   "execution_count": 3,
   "metadata": {
    "collapsed": true
   },
   "outputs": [],
   "source": [
    "def initHeap(d):\n",
    "    initval = d.itervalues().next()[0]\n",
    "    visited[initval] = 1\n",
    "    inheap[initval] = 1\n",
    "    return [(initval, 0, [])]"
   ]
  },
  {
   "cell_type": "code",
   "execution_count": 4,
   "metadata": {
    "collapsed": true
   },
   "outputs": [],
   "source": [
    "def mergeHeap(*all_):\n",
    "    a = True\n",
    "    b = True\n",
    "    counter = 0\n",
    "    while a or b:\n",
    "        try:\n",
    "            if all_[counter]:\n",
    "                if a:\n",
    "                    r1 = all_[counter]\n",
    "                    a = False\n",
    "                else:\n",
    "                    r2 = all_[counter]\n",
    "                    b = False\n",
    "            counter += 1\n",
    "        except IndexError:\n",
    "            return [r1]\n",
    "    therest = all_[counter:]\n",
    "    v1 = r1[1]\n",
    "    v2 = r2[1]\n",
    "    if v1 <= v2:\n",
    "        newHeap = r1\n",
    "        newHeap[-1].append(r2)\n",
    "    else:\n",
    "        newHeap = r2\n",
    "        newHeap[-1].append(r1)\n",
    "    return [newHeap] + list(therest)"
   ]
  },
  {
   "cell_type": "code",
   "execution_count": 5,
   "metadata": {
    "collapsed": true
   },
   "outputs": [],
   "source": [
    "def addHeap(heap, k, v):\n",
    "    inheap[k] = 1\n",
    "    try:\n",
    "        headVal = heap[1][1]\n",
    "        if headVal <= v:\n",
    "            heap[1][-1].append((k,v,[]))\n",
    "        else:\n",
    "            heap = [heap.pop(0), (k,v,heap)]\n",
    "    except IndexError:\n",
    "        heap.append((k, v, []))\n",
    "    return heap"
   ]
  },
  {
   "cell_type": "code",
   "execution_count": 6,
   "metadata": {
    "collapsed": true
   },
   "outputs": [],
   "source": [
    "def updateHeap_(heap, node, head=True, lst = []):\n",
    "    for i, h in enumerate(heap):\n",
    "        #print h[:2]\n",
    "        if h[1] > d[node][h[0]]:\n",
    "            lst.append((h[0], d[node][h[0]], []))\n",
    "#            run_on = h[-1]\n",
    "            heap[i] = h[-1]\n",
    "        updateHeap_(h[-1], node, False, lst)\n",
    "    if head:\n",
    "        return heap, lst\n",
    "    else:\n",
    "        return heap"
   ]
  },
  {
   "cell_type": "code",
   "execution_count": 7,
   "metadata": {
    "collapsed": false
   },
   "outputs": [
    {
     "name": "stdout",
     "output_type": "stream",
     "text": [
      "Wall time: 1e+03 µs\n"
     ]
    }
   ],
   "source": [
    "%%time\n",
    "n = 5\n",
    "d = makeGraph(n)\n",
    "best = {k : float(100) for k in range(n)}\n",
    "visited = {k : 0 for k in range(n)}\n",
    "dist = 0"
   ]
  },
  {
   "cell_type": "code",
   "execution_count": 8,
   "metadata": {
    "collapsed": false
   },
   "outputs": [
    {
     "name": "stdout",
     "output_type": "stream",
     "text": [
      "[(0, 0, []), (2, 0.077196289279129027, [(1, 0.36392013441269389, []), (3, 0.095408765406887475, []), (4, 0.70634698857356004, [])])]\n"
     ]
    }
   ],
   "source": [
    "inheap = visited.copy()\n",
    "heap = initHeap(d)\n",
    "for k, v in d[heap[0][0]].iteritems():\n",
    "    if not inheap[k]:\n",
    "        heap = addHeap(heap, k, v)\n",
    "print heap"
   ]
  },
  {
   "cell_type": "code",
   "execution_count": 9,
   "metadata": {
    "collapsed": false
   },
   "outputs": [
    {
     "data": {
      "text/plain": [
       "[(0, 0, []),\n",
       " (2,\n",
       "  0.077196289279129027,\n",
       "  [(1, 0.36392013441269389, []),\n",
       "   (3, 0.095408765406887475, []),\n",
       "   (4, 0.70634698857356004, [])])]"
      ]
     },
     "execution_count": 9,
     "metadata": {},
     "output_type": "execute_result"
    }
   ],
   "source": [
    "heap"
   ]
  },
  {
   "cell_type": "code",
   "execution_count": 10,
   "metadata": {
    "collapsed": false
   },
   "outputs": [
    {
     "name": "stdout",
     "output_type": "stream",
     "text": [
      "[(2, 0.077196289279129027, [(1, 0.36392013441269389, []), (3, 0.095408765406887475, []), (4, 0.70634698857356004, [])])] \n",
      "\n",
      "\n",
      "a: [(1, 0.36392013441269389, []), (3, 0.095408765406887475, []), []] b: [(4, 0.61942082304262802, [])]\n",
      "[(1, 0.36392013441269389, []), (4, 0.61942082304262802, [])]\n",
      "[(3, 0.095408765406887475, [(1, 0.36392013441269389, []), (4, 0.61942082304262802, [])])] \n",
      "\n",
      "\n",
      "a: [(1, 0.36392013441269389, []), []] b: [(4, 0.61942082304262802, []), (4, 0.042470437559219421, [])]\n",
      "[(1, 0.36392013441269389, [(4, 0.61942082304262802, [])])]\n",
      "[(4, 0.042470437559219421, [(1, 0.36392013441269389, [(4, 0.61942082304262802, [])])])] \n",
      "\n",
      "\n",
      "a: [[[]]] b: [(4, 0.61942082304262802, []), (4, 0.042470437559219421, [[[]]]), (1, 0.1047398546727526, []), (4, 0, [])]\n"
     ]
    },
    {
     "ename": "IndexError",
     "evalue": "list index out of range",
     "output_type": "error",
     "traceback": [
      "\u001b[1;31m---------------------------------------------------------------------------\u001b[0m",
      "\u001b[1;31mIndexError\u001b[0m                                Traceback (most recent call last)",
      "\u001b[1;32m<ipython-input-10-4bbd1af2bf58>\u001b[0m in \u001b[0;36m<module>\u001b[1;34m()\u001b[0m\n\u001b[0;32m      9\u001b[0m     \u001b[0mnewHeap\u001b[0m \u001b[1;33m=\u001b[0m \u001b[0ma\u001b[0m\u001b[1;33m+\u001b[0m\u001b[0mb\u001b[0m\u001b[1;33m\u001b[0m\u001b[0m\n\u001b[0;32m     10\u001b[0m     \u001b[1;32mwhile\u001b[0m \u001b[0mlength\u001b[0m \u001b[1;33m!=\u001b[0m \u001b[1;36m1\u001b[0m\u001b[1;33m:\u001b[0m\u001b[1;33m\u001b[0m\u001b[0m\n\u001b[1;32m---> 11\u001b[1;33m         \u001b[0mnewHeap\u001b[0m \u001b[1;33m=\u001b[0m \u001b[0mmergeHeap\u001b[0m\u001b[1;33m(\u001b[0m\u001b[1;33m*\u001b[0m\u001b[0mnewHeap\u001b[0m\u001b[1;33m)\u001b[0m\u001b[1;33m\u001b[0m\u001b[0m\n\u001b[0m\u001b[0;32m     12\u001b[0m         \u001b[0mlength\u001b[0m \u001b[1;33m=\u001b[0m \u001b[0mlen\u001b[0m\u001b[1;33m(\u001b[0m\u001b[0mnewHeap\u001b[0m\u001b[1;33m)\u001b[0m\u001b[1;33m\u001b[0m\u001b[0m\n\u001b[0;32m     13\u001b[0m     \u001b[0mheap\u001b[0m \u001b[1;33m=\u001b[0m \u001b[1;33m[\u001b[0m\u001b[1;33m(\u001b[0m\u001b[0mheap\u001b[0m\u001b[1;33m[\u001b[0m\u001b[1;36m0\u001b[0m\u001b[1;33m]\u001b[0m\u001b[1;33m[\u001b[0m\u001b[1;36m0\u001b[0m\u001b[1;33m]\u001b[0m\u001b[1;33m,\u001b[0m\u001b[0mheap\u001b[0m\u001b[1;33m[\u001b[0m\u001b[1;36m0\u001b[0m\u001b[1;33m]\u001b[0m\u001b[1;33m[\u001b[0m\u001b[1;36m1\u001b[0m\u001b[1;33m]\u001b[0m\u001b[1;33m,\u001b[0m\u001b[1;33m[\u001b[0m\u001b[1;33m]\u001b[0m\u001b[1;33m)\u001b[0m\u001b[1;33m,\u001b[0m \u001b[0mnewHeap\u001b[0m\u001b[1;33m.\u001b[0m\u001b[0mpop\u001b[0m\u001b[1;33m(\u001b[0m\u001b[1;33m)\u001b[0m\u001b[1;33m]\u001b[0m\u001b[1;33m\u001b[0m\u001b[0m\n",
      "\u001b[1;32m<ipython-input-4-1e112444c4de>\u001b[0m in \u001b[0;36mmergeHeap\u001b[1;34m(*all_)\u001b[0m\n\u001b[0;32m     19\u001b[0m     \u001b[1;31m#    return [r1]\u001b[0m\u001b[1;33m\u001b[0m\u001b[1;33m\u001b[0m\u001b[0m\n\u001b[0;32m     20\u001b[0m     \u001b[1;31m#else:\u001b[0m\u001b[1;33m\u001b[0m\u001b[1;33m\u001b[0m\u001b[0m\n\u001b[1;32m---> 21\u001b[1;33m     \u001b[0mv1\u001b[0m \u001b[1;33m=\u001b[0m \u001b[0mr1\u001b[0m\u001b[1;33m[\u001b[0m\u001b[1;36m1\u001b[0m\u001b[1;33m]\u001b[0m\u001b[1;33m\u001b[0m\u001b[0m\n\u001b[0m\u001b[0;32m     22\u001b[0m     \u001b[0mv2\u001b[0m \u001b[1;33m=\u001b[0m \u001b[0mr2\u001b[0m\u001b[1;33m[\u001b[0m\u001b[1;36m1\u001b[0m\u001b[1;33m]\u001b[0m\u001b[1;33m\u001b[0m\u001b[0m\n\u001b[0;32m     23\u001b[0m     \u001b[1;32mif\u001b[0m \u001b[0mv1\u001b[0m \u001b[1;33m<=\u001b[0m \u001b[0mv2\u001b[0m\u001b[1;33m:\u001b[0m\u001b[1;33m\u001b[0m\u001b[0m\n",
      "\u001b[1;31mIndexError\u001b[0m: list index out of range"
     ]
    }
   ],
   "source": [
    "## updateheap\n",
    "length_heap = 1\n",
    "while length_heap != 0:\n",
    "    dist += heap.pop(0)[1]\n",
    "    length = 0\n",
    "    print heap, \"\\n\\n\"\n",
    "    a,b = updateHeap_(heap[0][-1], heap[0][0])\n",
    "    print 'a:', a, 'b:', b, \"\\n\"\n",
    "    newHeap = a+b\n",
    "    while length != 1:\n",
    "        newHeap = mergeHeap(*newHeap)\n",
    "        length = len(newHeap)\n",
    "    heap = [(heap[0][0],heap[0][1],[]), newHeap.pop()]\n",
    "    length_heap = len(heap[1][-1])\n",
    "    print heap[1][-1]"
   ]
  },
  {
   "cell_type": "code",
   "execution_count": null,
   "metadata": {
    "collapsed": true
   },
   "outputs": [],
   "source": [
    "print dist"
   ]
  },
  {
   "cell_type": "code",
   "execution_count": null,
   "metadata": {
    "collapsed": true
   },
   "outputs": [],
   "source": [
    "Initialize a tree with a single vertex, chosen arbitrarily from the graph.\n",
    "Grow the tree by one edge: of the edges that connect the tree to vertices not yet in the tree, find the minimum-weight edge, and transfer it to the tree.\n",
    "Repeat step 2 (until all vertices are in the tree)."
   ]
  }
 ],
 "metadata": {
  "kernelspec": {
   "display_name": "Python 2",
   "language": "python",
   "name": "python2"
  },
  "language_info": {
   "codemirror_mode": {
    "name": "ipython",
    "version": 2
   },
   "file_extension": ".py",
   "mimetype": "text/x-python",
   "name": "python",
   "nbconvert_exporter": "python",
   "pygments_lexer": "ipython2",
   "version": "2.7.11"
  }
 },
 "nbformat": 4,
 "nbformat_minor": 0
}
